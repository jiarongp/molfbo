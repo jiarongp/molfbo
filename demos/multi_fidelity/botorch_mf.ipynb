{
 "cells": [
  {
   "cell_type": "code",
   "execution_count": 4,
   "metadata": {},
   "outputs": [],
   "source": [
    "import torch\n",
    "from botorch.test_functions.multi_fidelity import AugmentedHartmann\n",
    "\n",
    "tkwargs = {\n",
    "    \"dtype\": torch.double,\n",
    "    \"device\": torch.device(\"cuda\" if torch.cuda.is_available() else \"cpu\"),\n",
    "}"
   ]
  },
  {
   "cell_type": "code",
   "execution_count": 5,
   "metadata": {},
   "outputs": [],
   "source": [
    "problem = AugmentedHartmann(negate=True).to(**tkwargs)\n",
    "fidelities = torch.tensor([0.5, 0.75, 1.0], **tkwargs)"
   ]
  },
  {
   "cell_type": "code",
   "execution_count": 6,
   "metadata": {},
   "outputs": [],
   "source": [
    "from botorch.models.gp_regression_fidelity import SingleTaskMultiFidelityGP\n",
    "from botorch.models.transforms.outcome import Standardize\n",
    "from gpytorch.mlls.exact_marginal_log_likelihood import ExactMarginalLogLikelihood\n",
    "\n",
    "\n",
    "def generate_initial_data(n=16):\n",
    "    # generate training data\n",
    "    train_x = torch.rand(n, 6, **tkwargs)\n",
    "    train_f = fidelities[torch.randint(3, (n, 1))]\n",
    "    train_x_full = torch.cat((train_x, train_f), dim=1)\n",
    "    train_obj = problem(train_x_full).unsqueeze(-1)  # add output dimension\n",
    "    return train_x_full, train_obj\n",
    "\n",
    "\n",
    "def initialize_model(train_x, train_obj):\n",
    "    # define a surrogate model suited for a \"training data\"-like fidelity parameter\n",
    "    # in dimension 6, as in [2]\n",
    "    model = SingleTaskMultiFidelityGP(\n",
    "        train_x, train_obj, outcome_transform=Standardize(m=1), data_fidelities=[6]\n",
    "    )\n",
    "    mll = ExactMarginalLogLikelihood(model.likelihood, model)\n",
    "    return mll, model"
   ]
  },
  {
   "cell_type": "code",
   "execution_count": 7,
   "metadata": {},
   "outputs": [],
   "source": [
    "train_x, train_obj = generate_initial_data(n=16)"
   ]
  },
  {
   "cell_type": "code",
   "execution_count": 9,
   "metadata": {},
   "outputs": [
    {
     "data": {
      "text/plain": [
       "torch.Size([16, 7])"
      ]
     },
     "execution_count": 9,
     "metadata": {},
     "output_type": "execute_result"
    }
   ],
   "source": [
    "train_x.shape"
   ]
  }
 ],
 "metadata": {
  "kernelspec": {
   "display_name": "mobo",
   "language": "python",
   "name": "python3"
  },
  "language_info": {
   "codemirror_mode": {
    "name": "ipython",
    "version": 3
   },
   "file_extension": ".py",
   "mimetype": "text/x-python",
   "name": "python",
   "nbconvert_exporter": "python",
   "pygments_lexer": "ipython3",
   "version": "3.11.5"
  }
 },
 "nbformat": 4,
 "nbformat_minor": 2
}
