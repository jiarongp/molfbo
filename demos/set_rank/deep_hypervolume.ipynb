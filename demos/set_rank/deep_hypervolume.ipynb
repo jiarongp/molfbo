{
 "cells": [
  {
   "cell_type": "code",
   "execution_count": 1,
   "id": "9ed76137",
   "metadata": {},
   "outputs": [],
   "source": [
    "import sys\n",
    "sys.path.append(\"../../\")"
   ]
  },
  {
   "cell_type": "code",
   "execution_count": 2,
   "id": "2a092adc",
   "metadata": {},
   "outputs": [],
   "source": [
    "import torch\n",
    "from botorch.test_functions.multi_objective import BraninCurrin\n",
    "from botorch.utils.sampling import draw_sobol_samples\n",
    "from botorch.utils.multi_objective.box_decompositions.dominated import DominatedPartitioning\n",
    "\n",
    "tkwargs = {\"device\": \"cuda\", \"dtype\": torch.float}"
   ]
  },
  {
   "cell_type": "code",
   "execution_count": 3,
   "id": "7dd0ce06",
   "metadata": {},
   "outputs": [],
   "source": [
    "def generate_initial_data(problem, n=6):\n",
    "    # generate training data\n",
    "    X_obs = torch.empty(0, problem.bounds.shape[-1], **tkwargs)\n",
    "    y_obs = torch.empty(0, problem.ref_point.shape[-1], **tkwargs)\n",
    "    while len(X_obs) < n:\n",
    "        x = draw_sobol_samples(bounds=problem.bounds, n=1, q=1).squeeze(1)\n",
    "        y = problem(x)\n",
    "        if (y > problem.ref_point).all(dim=-1).item():\n",
    "            X_obs = torch.concat([X_obs, x], dim=0)\n",
    "            y_obs = torch.concat([y_obs, y], dim=0)\n",
    "\n",
    "    return X_obs, y_obs"
   ]
  },
  {
   "cell_type": "code",
   "execution_count": 4,
   "id": "69cffc1e",
   "metadata": {},
   "outputs": [
    {
     "name": "stdout",
     "output_type": "stream",
     "text": [
      "max_hv: 59.36011874867746\n",
      "ref_point: tensor([-18.,  -6.], device='cuda:0')\n"
     ]
    }
   ],
   "source": [
    "problem = BraninCurrin(negate=True).to(**tkwargs)\n",
    "print(f\"max_hv: {problem.max_hv}\\nref_point: {problem.ref_point}\")\n",
    "X_obs, y_obs = generate_initial_data(problem, n=500)"
   ]
  },
  {
   "cell_type": "code",
   "execution_count": 5,
   "id": "8081dd14",
   "metadata": {},
   "outputs": [],
   "source": [
    "# compute hypervolume\n",
    "bd = DominatedPartitioning(ref_point=problem.ref_point, Y=y_obs)"
   ]
  },
  {
   "cell_type": "markdown",
   "id": "fae0f5ac",
   "metadata": {},
   "source": [
    "## Hypervolume scalarization\n",
    "\n",
    "$$ \\mathcal{HV}_{z}(Y) := c_k \\mathbb{E}_{\\lambda \\sim \\mathcal{S}_{+}^{k-1}} \\left[ \\max_{y \\in Y} s_{\\lambda}(y - z) \\right] $$\n",
    "\n",
    "where $s_{\\lambda}(y) = \\min_i(\\max(0, \\frac{y_i}{\\lambda_i}))^k$ and $c_k = \\frac{\\pi^{k/2}}{2^k \\Gamma (k / 2+1)}$. $ \\mathcal{S}_{+}^{k-1} = \\{ \\lambda \\in \\mathbb R^k \\mid \\lVert \\lambda \\rVert= 1, \\lambda \\geq 0 \\} $ (from a hypersphere)"
   ]
  },
  {
   "cell_type": "code",
   "execution_count": 6,
   "id": "0c0f6890",
   "metadata": {},
   "outputs": [],
   "source": [
    "from botorch.utils.sampling import sample_hypersphere"
   ]
  },
  {
   "cell_type": "code",
   "execution_count": 7,
   "id": "18289e54",
   "metadata": {},
   "outputs": [
    {
     "name": "stdout",
     "output_type": "stream",
     "text": [
      "56.109039306640625\n"
     ]
    }
   ],
   "source": [
    "# Ground truth\n",
    "volume = bd.compute_hypervolume().item()\n",
    "print(volume)"
   ]
  },
  {
   "cell_type": "code",
   "execution_count": 8,
   "id": "7f0f7918",
   "metadata": {},
   "outputs": [],
   "source": [
    "k = torch.tensor(y_obs.shape[-1])"
   ]
  },
  {
   "cell_type": "code",
   "execution_count": 9,
   "id": "b988bb33",
   "metadata": {},
   "outputs": [],
   "source": [
    "hv_weights = sample_hypersphere(d=k, n=100, qmc=True).abs().unsqueeze(1).to(**tkwargs)\n",
    "# dimension-independent constant\n",
    "c_k = torch.pow(torch.pi, k / 2) / (torch.pow(torch.tensor(2), k) * torch.lgamma(k/2 + 1).exp())"
   ]
  },
  {
   "cell_type": "code",
   "execution_count": 10,
   "id": "c7a5d763",
   "metadata": {},
   "outputs": [
    {
     "name": "stdout",
     "output_type": "stream",
     "text": [
      "54.17313766479492\n"
     ]
    }
   ],
   "source": [
    "# hypervolume scalarization\n",
    "y = y_obs\n",
    "scalar = ((y - problem.ref_point).clamp_min(0).unsqueeze(-3) / hv_weights).amin(dim=-1).pow(k).amax(dim=-1)\n",
    "hv_scalar = c_k * scalar.mean()\n",
    "print(hv_scalar.item())"
   ]
  },
  {
   "cell_type": "markdown",
   "id": "413181ad",
   "metadata": {},
   "source": [
    "### Deep random hypervolume scalarization"
   ]
  },
  {
   "cell_type": "code",
   "execution_count": 11,
   "id": "c8b6582b",
   "metadata": {},
   "outputs": [],
   "source": [
    "import torch\n",
    "import torch.nn as nn\n",
    "\n",
    "from modules import SAB, PMA, ISAB\n",
    "\n",
    "\n",
    "def gen_data(dataset, batch_size):\n",
    "    # number of y in a set\n",
    "    max_length = dataset.tensors[0].shape[0]\n",
    "    length = torch.randint(low=1, high=max_length + 1, size=(1,)).item()\n",
    "    trainloader = torch.utils.data.DataLoader(\n",
    "        dataset,\n",
    "        batch_size=length,\n",
    "        shuffle=True,\n",
    "        drop_last=True,\n",
    "    )\n",
    "\n",
    "    def inf_train_gen(dataloader):\n",
    "        while True:\n",
    "            for y in iter(dataloader): yield y\n",
    "\n",
    "    train_gen = inf_train_gen(trainloader)\n",
    "    y_samples = torch.empty(0, length, dataset.tensors[0].shape[-1], **tkwargs)\n",
    "    for _ in range(batch_size):\n",
    "        data = next(train_gen)\n",
    "        data = data[0].unsqueeze(0)\n",
    "        y_samples = torch.concat([y_samples, data], dim=0)\n",
    "\n",
    "    weight_samples = sample_hypersphere(d=k, n=batch_size, qmc=True).abs().unsqueeze(1).to(**tkwargs)\n",
    "    return y_samples, weight_samples\n",
    "\n",
    "class SetTransformer(nn.Module):\n",
    "    def __init__(self, dim_input=2, num_outputs=1, dim_output=1,\n",
    "            num_inds=32, dim_hidden=128, num_heads=4, ln=False):\n",
    "        super(SetTransformer, self).__init__()\n",
    "        self.enc = nn.Sequential(\n",
    "                ISAB(dim_input, dim_hidden, num_heads, num_inds, ln=ln),\n",
    "                ISAB(dim_hidden, dim_hidden, num_heads, num_inds, ln=ln))\n",
    "        self.dec = nn.Sequential(\n",
    "                PMA(dim_hidden, num_heads, num_outputs, ln=ln),\n",
    "                SAB(dim_hidden, dim_hidden, num_heads, ln=ln),\n",
    "                SAB(dim_hidden, dim_hidden, num_heads, ln=ln),\n",
    "                nn.Linear(dim_hidden, dim_output))\n",
    "\n",
    "    def forward(self, X):\n",
    "        return self.dec(self.enc(X)).squeeze(-1)\n",
    "\n",
    "class SmallSetTransformer(nn.Module):\n",
    "    def __init__(self,):\n",
    "        super().__init__()\n",
    "        self.enc = nn.Sequential(\n",
    "            SAB(dim_in=2, dim_out=64, num_heads=4),\n",
    "            SAB(dim_in=64, dim_out=64, num_heads=4),\n",
    "        )\n",
    "        self.dec = nn.Sequential(\n",
    "            PMA(dim=64, num_heads=4, num_seeds=1),\n",
    "            nn.Linear(in_features=64, out_features=1),\n",
    "        )\n",
    "\n",
    "    def forward(self, x):\n",
    "        x = self.enc(x)\n",
    "        x = self.dec(x)\n",
    "        return x.squeeze(-1)\n",
    "\n",
    "def train_model(model, y_obs, num_iter=500):\n",
    "    y_dataset = torch.utils.data.TensorDataset(y_obs)\n",
    "\n",
    "    optimizer = torch.optim.Adam(model.parameters(), lr=1e-3)\n",
    "    scheduler = torch.optim.lr_scheduler.ExponentialLR(optimizer, gamma=0.99)\n",
    "    criterion = torch.nn.functional.binary_cross_entropy_with_logits\n",
    "    losses = []\n",
    "    batch_size = 32\n",
    "    \n",
    "    model.train()\n",
    "    for i in range(num_iter):\n",
    "        if (i+1) % 100 == 0:\n",
    "            print(f\"iteration {i+1}\")\n",
    "    \n",
    "        y_samples, hv_weights = gen_data(dataset=y_dataset, batch_size=batch_size)\n",
    "\n",
    "        u = torch.tensor([], **tkwargs)\n",
    "        for y, w in zip(y_samples, hv_weights):\n",
    "            u = torch.concat([u, utility(w[None, ...], y[None, ...])])\n",
    "    \n",
    "        labels = torch.concat([torch.ones_like(u), torch.zeros_like(u)])\n",
    "        u = torch.concat([u, torch.ones_like(u)])\n",
    "    \n",
    "        input = torch.concat([y_samples, y_samples])\n",
    "    \n",
    "        preds = model(input)\n",
    "        loss = criterion(preds, labels, weight=u)\n",
    "        optimizer.zero_grad()\n",
    "        loss.backward()\n",
    "        optimizer.step()\n",
    "        losses.append(loss.item())\n",
    "        scheduler.step()\n",
    "    model.eval()\n",
    "    return model, losses"
   ]
  },
  {
   "cell_type": "code",
   "execution_count": 12,
   "id": "dc3a5ccb",
   "metadata": {},
   "outputs": [],
   "source": [
    "def utility(hv_weights, y):\n",
    "    return ((y - problem.ref_point).clamp_min(0).unsqueeze(-3) / hv_weights).amin(dim=-1).pow(k).amax(dim=-1)"
   ]
  },
  {
   "cell_type": "code",
   "execution_count": 13,
   "id": "c2c166f9",
   "metadata": {},
   "outputs": [
    {
     "name": "stdout",
     "output_type": "stream",
     "text": [
      "iteration 100\n",
      "iteration 200\n",
      "iteration 300\n",
      "iteration 400\n",
      "iteration 500\n",
      "iteration 600\n",
      "iteration 700\n",
      "iteration 800\n",
      "iteration 900\n",
      "iteration 1000\n"
     ]
    },
    {
     "data": {
      "image/png": "[encoded data removed]",
      "text/plain": [
       "<Figure size 640x480 with 1 Axes>"
      ]
     },
     "metadata": {},
     "output_type": "display_data"
    }
   ],
   "source": [
    "model = SmallSetTransformer()\n",
    "model.to(**tkwargs)\n",
    "train = True\n",
    "\n",
    "if train:\n",
    "    model, losses = train_model(model, y_obs, num_iter=1000)\n",
    "    torch.save(model.state_dict(), \"/home/paj7rng/mobo_experiments/demos/lfbo/set_transformer.pt\")\n",
    "\n",
    "    import matplotlib.pyplot as plt\n",
    "    plt.plot(losses);\n",
    "else:\n",
    "    model.load_state_dict(torch.load(\"/home/paj7rng/mobo_experiments/demos/lfbo/set_transformer.pt\"))\n",
    "    model.eval()"
   ]
  },
  {
   "cell_type": "code",
   "execution_count": 14,
   "id": "3b72f7c5",
   "metadata": {},
   "outputs": [
    {
     "name": "stdout",
     "output_type": "stream",
     "text": [
      "56.109039306640625\n",
      "54.17313766479492\n",
      "53.22073745727539\n"
     ]
    }
   ],
   "source": [
    "with torch.no_grad():\n",
    "    pred = torch.sigmoid(model(y_obs[None, ...]))\n",
    "hypervolume = c_k * pred / (1 - pred)\n",
    "\n",
    "print(volume)\n",
    "print(hv_scalar.item())\n",
    "print(hypervolume.item())"
   ]
  },
  {
   "cell_type": "code",
   "execution_count": 15,
   "id": "d9677b22-c262-4f2d-8c4e-b8971bf7f425",
   "metadata": {},
   "outputs": [],
   "source": [
    "with torch.no_grad():\n",
    "    pred = torch.sigmoid(model(y_obs[None, ...]))"
   ]
  },
  {
   "cell_type": "code",
   "execution_count": 16,
   "id": "ad3be31c-5cf2-4f98-a574-4b864a618690",
   "metadata": {},
   "outputs": [],
   "source": [
    "hvs_diff = []\n",
    "hvd_diff = []\n",
    "for n in range(10, 110, 10):\n",
    "    _, y_obs = generate_initial_data(problem, n=n)\n",
    "    \n",
    "    # Ground truth\n",
    "    bd = DominatedPartitioning(ref_point=problem.ref_point, Y=y_obs)\n",
    "    volume = bd.compute_hypervolume().item()\n",
    "\n",
    "    \n",
    "    # hypervolume scalarization\n",
    "    y = y_obs\n",
    "    scalar = ((y - problem.ref_point).clamp_min(0).unsqueeze(-3) / hv_weights).amin(dim=-1).pow(k).amax(dim=-1)\n",
    "    hv_scalar = c_k * scalar.mean()\n",
    "    hvs_diff.append(abs(volume - hv_scalar.item()))\n",
    "    \n",
    "    # DeepHV\n",
    "    with torch.no_grad():\n",
    "        pred = torch.sigmoid(model(y_obs[None, ...]))\n",
    "    hypervolume = c_k * pred / (1 - pred)\n",
    "    hvd_diff.append(abs(volume - hypervolume.item()))"
   ]
  },
  {
   "cell_type": "code",
   "execution_count": 17,
   "id": "1010ecc4-af7a-4de1-8f63-1451a6bb954e",
   "metadata": {},
   "outputs": [
    {
     "data": {
      "image/png": "[encoded data removed]",
      "text/plain": [
       "<Figure size 640x480 with 1 Axes>"
      ]
     },
     "metadata": {},
     "output_type": "display_data"
    }
   ],
   "source": [
    "import matplotlib.pyplot as plt\n",
    "\n",
    "plt.plot(hvs_diff, label=\"random hypervolume\")\n",
    "plt.plot(hvd_diff, label=\"deep\")\n",
    "plt.legend();"
   ]
  }
 ],
 "metadata": {
  "kernelspec": {
   "display_name": "Python 3 (ipykernel)",
   "language": "python",
   "name": "python3"
  },
  "language_info": {
   "codemirror_mode": {
    "name": "ipython",
    "version": 3
   },
   "file_extension": ".py",
   "mimetype": "text/x-python",
   "name": "python",
   "nbconvert_exporter": "python",
   "pygments_lexer": "ipython3",
   "version": "3.9.16"
  }
 },
 "nbformat": 4,
 "nbformat_minor": 5
}
