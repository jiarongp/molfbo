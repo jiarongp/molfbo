{
 "cells": [
  {
   "cell_type": "code",
   "execution_count": 1,
   "metadata": {},
   "outputs": [],
   "source": [
    "import torch"
   ]
  },
  {
   "cell_type": "code",
   "execution_count": 50,
   "metadata": {},
   "outputs": [],
   "source": [
    "x = torch.randn(64, 2, requires_grad=True)\n",
    "y = torch.randint(0, 2, size=(64, 1)).float()\n",
    "w = torch.randn(64, 1)\n",
    "\n",
    "train_tensors = [x, y, w]  # normalize the weights\n",
    "train_dataset = torch.utils.data.TensorDataset(*train_tensors)\n",
    "train_dataloader = torch.utils.data.DataLoader(\n",
    "    train_dataset,\n",
    "    batch_size=64,\n",
    "    shuffle=True\n",
    ")"
   ]
  },
  {
   "cell_type": "code",
   "execution_count": 51,
   "metadata": {},
   "outputs": [],
   "source": [
    "model = torch.nn.Linear(2, 1)\n",
    "# loss_fn = torch.nn.CrossEntropyLoss(reduction='none')\n",
    "loss_fn = torch.nn.functional.binary_cross_entropy_with_logits"
   ]
  },
  {
   "cell_type": "code",
   "execution_count": 52,
   "metadata": {},
   "outputs": [
    {
     "name": "stdout",
     "output_type": "stream",
     "text": [
      "BCE_1: 0.9419917464256287\n",
      "BCE_2: 0.06417237222194672\n",
      "BCE_3: 0.06417237222194672\n"
     ]
    }
   ],
   "source": [
    "for _, (inputs, targets, weights) in enumerate(train_dataloader):\n",
    "    outputs = model(inputs)\n",
    "\n",
    "    bce_loss = torch.nn.functional.binary_cross_entropy_with_logits(\n",
    "        outputs, targets, reduction='none'\n",
    "    )\n",
    "    bce_1 = (bce_loss * weights / weights.sum()).sum()\n",
    "    print(f\"BCE_1: {bce_1}\")\n",
    "\n",
    "    bce_2 = (bce_loss * weights).mean()\n",
    "    print(f\"BCE_2: {bce_2}\")\n",
    "\n",
    "    bce_3 = torch.nn.functional.binary_cross_entropy_with_logits(outputs, targets, weight=weights)\n",
    "    print(f\"BCE_3: {bce_3}\")"
   ]
  }
 ],
 "metadata": {
  "kernelspec": {
   "display_name": "mobo",
   "language": "python",
   "name": "python3"
  },
  "language_info": {
   "codemirror_mode": {
    "name": "ipython",
    "version": 3
   },
   "file_extension": ".py",
   "mimetype": "text/x-python",
   "name": "python",
   "nbconvert_exporter": "python",
   "pygments_lexer": "ipython3",
   "version": "3.11.5"
  }
 },
 "nbformat": 4,
 "nbformat_minor": 2
}
